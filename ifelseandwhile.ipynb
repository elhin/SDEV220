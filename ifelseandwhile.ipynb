{
 "cells": [
  {
   "cell_type": "markdown",
   "metadata": {},
   "source": [
    "Write a Python app that will accept student names and GPAs and test if the student qualifies for either the Dean's List or the Honor Roll. Your app will:\n",
    "\n",
    "    ask for and accept a student's last name.\n",
    "    quit processing student records if the last name entered is 'ZZZ'.\n",
    "    ask for and accept a student's first name.\n",
    "    ask for and accept the student's GPA as a float.\n",
    "    test if the student's GPA is 3.5 or greater and, if so, print a message saying that the student has made the Dean's List.\n",
    "    test if the student's GPA is 3.25 or greater and, if so, print a message saying that the studnet has made the Honor Roll.\n"
   ]
  },
  {
   "cell_type": "code",
   "execution_count": null,
   "metadata": {},
   "outputs": [
    {
     "name": "stdout",
     "output_type": "stream",
     "text": [
      "Terminating input.\n"
     ]
    }
   ],
   "source": [
    "# Written by: Ellyn Hindle\n",
    "# File name: ifelseandwhile.ipynb\n",
    "# Program will accept student last name, first name, and GPA.\n",
    "# Then, program will output whether the student made the honor roll or dean's list.\n",
    "# Terminates upon entering \"ZZZ\". No input validation.\n",
    "studLName = input(\"What is the student's last name? Type ZZZ to quit.\")\n",
    "while studLName == \"ZZZ\":\n",
    "    print(\"Terminating input.\")\n",
    "    break\n",
    "else: \n",
    "    studFName = input(\"What is the student's first name?\")\n",
    "    studGPA = float(input(\"What is the student's GPA? (written in this format: 0.00)\"))\n",
    "    if studGPA >= 3.5:\n",
    "        print(studFName, studLName, \"has made the Dean's List!\" )\n",
    "    elif studGPA >= 3.25:\n",
    "        print(studFName, studLName, \"has made the Honor Roll!\" )\n",
    "    else:\n",
    "        print(studFName, studLName, \"has a GPA of\", studGPA)\n"
   ]
  }
 ],
 "metadata": {
  "kernelspec": {
   "display_name": "base",
   "language": "python",
   "name": "python3"
  },
  "language_info": {
   "codemirror_mode": {
    "name": "ipython",
    "version": 3
   },
   "file_extension": ".py",
   "mimetype": "text/x-python",
   "name": "python",
   "nbconvert_exporter": "python",
   "pygments_lexer": "ipython3",
   "version": "3.12.7"
  }
 },
 "nbformat": 4,
 "nbformat_minor": 2
}
