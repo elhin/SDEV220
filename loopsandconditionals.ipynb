{
 "cells": [
  {
   "cell_type": "code",
   "execution_count": 5,
   "metadata": {},
   "outputs": [
    {
     "name": "stdout",
     "output_type": "stream",
     "text": [
      "too low\n"
     ]
    }
   ],
   "source": [
    "#4.1 Choose a number between 1 and 10 and assign it to the variable secret. \n",
    "#Then, select another number between 1 and 10 and assign it to the variable guess. \n",
    "#Next, write the conditional tests (if, else, and elif) to print the string 'too low' \n",
    "#if guess is less than secret, 'too high' if greater than secret, and 'just right' if equal to secret.\n",
    "secret = 7\n",
    "guess = 4\n",
    "if guess < secret:\n",
    "    print('too low')\n",
    "elif guess > secret:\n",
    "    print('too high')\n",
    "elif guess == secret:\n",
    "    print('just right')\n",
    "else:\n",
    "    print('error')"
   ]
  },
  {
   "cell_type": "code",
   "execution_count": null,
   "metadata": {},
   "outputs": [
    {
     "name": "stdout",
     "output_type": "stream",
     "text": [
      "pea\n"
     ]
    }
   ],
   "source": [
    "# 4.2 Assign True or False to the variables small and green. \n",
    "# Write some if/else statements to print which of these matches those choices: \n",
    "# cherry, pea, watermelon, pumpkin.\n",
    "\n",
    "small = True\n",
    "green = False\n",
    "\n",
    "if small == True:\n",
    "    if green == True:\n",
    "        print(\"pea\")\n",
    "    else:\n",
    "        print(\"cherry\")\n",
    "else:\n",
    "    if green == True:\n",
    "        print(\"watermelon\")\n",
    "    else: \n",
    "        print(\"pumpkin\")"
   ]
  },
  {
   "cell_type": "code",
   "execution_count": 11,
   "metadata": {},
   "outputs": [
    {
     "name": "stdout",
     "output_type": "stream",
     "text": [
      "3\n",
      "2\n",
      "1\n",
      "0\n"
     ]
    }
   ],
   "source": [
    "#6.1 Use a for loop to print the values of the list [3, 2, 1, 0].\n",
    "\n",
    "for x in range(3, -1, -1):\n",
    "    print(x)"
   ]
  },
  {
   "cell_type": "code",
   "execution_count": null,
   "metadata": {},
   "outputs": [
    {
     "name": "stdout",
     "output_type": "stream",
     "text": [
      "oops\n"
     ]
    }
   ],
   "source": [
    "# 6.2 Assign the value 7 to the variable guess_me, and the value 1 to the variable number. \n",
    "# Write a while loop that compares number with guess_me. Print 'too low' if number is less than guess me.\n",
    "# If number equals guess_me, print 'found it!' and then exit the loop.\n",
    "# If number is greater than guess_me, print 'oops' and then exit the loop.\n",
    "# Increment number at the end of the loop.\n",
    "\n",
    "guess_me = 7\n",
    "value = 1\n",
    "while value <= guess_me:\n",
    "    if value == guess_me:\n",
    "        print(\"found it!\")\n",
    "        break\n",
    "    else: \n",
    "        print(\"too low\")\n",
    "        value += 1\n",
    "else: \n",
    "    print(\"oops\")\n",
    "\n"
   ]
  },
  {
   "cell_type": "code",
   "execution_count": null,
   "metadata": {},
   "outputs": [
    {
     "name": "stdout",
     "output_type": "stream",
     "text": [
      "too low\n",
      "too low\n",
      "too low\n",
      "too low\n",
      "too low\n",
      "found it!\n",
      "oops\n"
     ]
    }
   ],
   "source": [
    "# 6.3 Assign the value 5 to the variable guess_me. \n",
    "# Use a for loop to iterate a variable called number over range(10). \n",
    "# If number is less than guess_me, print 'too low'. \n",
    "# If it equals guess_me, print found it! and then break out of the for loop. \n",
    "# If number is greater than guess_me, print 'oops' and then exit the loop.\n",
    "\n",
    "guess_me = 5\n",
    "\n",
    "for number in range(10):\n",
    "    if number < guess_me:\n",
    "        print('too low')\n",
    "    elif number == guess_me:\n",
    "        print('found it!')\n",
    "        break\n",
    "    elif number > guess_me:\n",
    "        print('oops')\n",
    "        break\n",
    "    else:\n",
    "        print('error')"
   ]
  }
 ],
 "metadata": {
  "kernelspec": {
   "display_name": "base",
   "language": "python",
   "name": "python3"
  },
  "language_info": {
   "codemirror_mode": {
    "name": "ipython",
    "version": 3
   },
   "file_extension": ".py",
   "mimetype": "text/x-python",
   "name": "python",
   "nbconvert_exporter": "python",
   "pygments_lexer": "ipython3",
   "version": "3.12.7"
  }
 },
 "nbformat": 4,
 "nbformat_minor": 2
}
